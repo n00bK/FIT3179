{
 "cells": [
  {
   "cell_type": "code",
   "execution_count": 16,
   "metadata": {},
   "outputs": [],
   "source": [
    "import pandas as pd\n",
    "\n",
    "dt = pd.read_csv(\"Pure_Data.csv\")\n",
    "dt = dt.fillna(0)\n",
    "dt2 = dt[dt['Variable'] != 'Renewables']\n",
    "dt2 = dt[dt['Variable'] != 'Wind and solar']\n",
    "dt2 = dt[dt['Variable'] != 'Demand']\n",
    "dt2 = dt[dt['Variable'] != 'Net imports']\n",
    "dt2 = dt[dt['Variable'] != 'production']\n",
    "dt2 = dt[dt['Area'] != 'EU-27']\n",
    "dt2 = dt[dt['Area'] != 'EU27+1']\n",
    "\n",
    "dt2['Total Generation (TWh)'] = \"\"\n",
    "\n",
    "dt2['Total Generation (TWh)'] = dt2.groupby(['Year', 'Area'])['Generation (TWh)'].transform(sum)\n",
    "\n",
    "dt2 = dt2[['Year','Area','Total Generation (TWh)']]\n",
    "dt3 = dt2.drop_duplicates()\n",
    "\n",
    "dt3.to_csv(\"Choro_Data.csv\")"
   ]
  },
  {
   "cell_type": "code",
   "execution_count": 19,
   "metadata": {},
   "outputs": [],
   "source": [
    "df = pd.read_excel(\"Data-file-Europe-Power-Sector-2020.xlsx\", sheet_name= \"Carbon intensities\")\n",
    "df = df[df['Area'] != 'EU-27']\n",
    "df = df[df['Area'] != 'EU27+1']\n",
    "#df"
   ]
  },
  {
   "cell_type": "code",
   "execution_count": 35,
   "metadata": {},
   "outputs": [],
   "source": [
    "dt = pd.read_csv(\"Pure_Data.csv\")\n",
    "dt.pop('Unnamed: 0')\n",
    "dt = dt[dt['Area'] != 'EU-27']\n",
    "dt = dt[dt['Area'] != 'EU27+1']\n",
    "dt = dt[dt['Variable'] != 'Renewables']\n",
    "\n",
    "dt['Total_Generation(TWh)'] = \"\"\n",
    "dt['Total_Generation(TWh)'] = dt.groupby(['Year','Variable'])['Generation (TWh)'].transform(sum)\n",
    "\n",
    "dt = dt[['Year','Variable','Total_Generation(TWh)']]\n",
    "dt.to_csv(\"Stream_Data.csv\")"
   ]
  },
  {
   "cell_type": "code",
   "execution_count": null,
   "metadata": {},
   "outputs": [],
   "source": []
  }
 ],
 "metadata": {
  "kernelspec": {
   "display_name": "Python 3",
   "language": "python",
   "name": "python3"
  },
  "language_info": {
   "codemirror_mode": {
    "name": "ipython",
    "version": 3
   },
   "file_extension": ".py",
   "mimetype": "text/x-python",
   "name": "python",
   "nbconvert_exporter": "python",
   "pygments_lexer": "ipython3",
   "version": "3.8.3"
  }
 },
 "nbformat": 4,
 "nbformat_minor": 4
}
